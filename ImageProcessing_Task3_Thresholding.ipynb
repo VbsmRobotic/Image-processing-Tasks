{
  "nbformat": 4,
  "nbformat_minor": 0,
  "metadata": {
    "colab": {
      "provenance": [],
      "authorship_tag": "ABX9TyMDDU/nJBGIYUwcltjj+qFU",
      "include_colab_link": true
    },
    "kernelspec": {
      "name": "python3",
      "display_name": "Python 3"
    },
    "language_info": {
      "name": "python"
    }
  },
  "cells": [
    {
      "cell_type": "markdown",
      "metadata": {
        "id": "view-in-github",
        "colab_type": "text"
      },
      "source": [
        "<a href=\"https://colab.research.google.com/github/VbsmRobotic/Image-processing-Tasks/blob/main/ImageProcessing_Task3_Thresholding.ipynb\" target=\"_parent\"><img src=\"https://colab.research.google.com/assets/colab-badge.svg\" alt=\"Open In Colab\"/></a>"
      ]
    },
    {
      "cell_type": "code",
      "execution_count": 1,
      "metadata": {
        "colab": {
          "base_uri": "https://localhost:8080/"
        },
        "id": "lo6c9atoaH1J",
        "outputId": "d876d4c2-cabb-4030-ed4b-0ccf036a5f20"
      },
      "outputs": [
        {
          "output_type": "stream",
          "name": "stderr",
          "text": [
            "Downloading...\n",
            "From: https://drive.google.com/uc?id=1LYXVjJN_XXQv9pJvPwSzG_rjw4pzVtqY\n",
            "To: /content/img_1.png\n",
            "100%|██████████| 476k/476k [00:00<00:00, 34.3MB/s]\n"
          ]
        }
      ],
      "source": [
        "import numpy as np\n",
        "import cv2 as cv\n",
        "import matplotlib.pyplot as plt\n",
        "import os\n",
        "\n",
        "!pip install -q gdown\n",
        "import gdown\n",
        "\n",
        "# url is the Google Drive file ID\n",
        "file_id = '1LYXVjJN_XXQv9pJvPwSzG_rjw4pzVtqY'\n",
        "output = 'img_1.png'\n",
        "\n",
        "# Use the 'id' parameter with the file ID instead of the 'url' parameter\n",
        "# Ensure the Google Drive file permissions are set to 'Anyone with the link'\n",
        "gdown.download(id=file_id, output=output, quiet=False)\n",
        "\n",
        "# Read the downloaded image\n",
        "img = cv.imread(output, cv.IMREAD_COLOR_RGB)"
      ]
    }
  ]
}